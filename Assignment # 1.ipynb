{
 "cells": [
  {
   "cell_type": "code",
   "execution_count": 2,
   "id": "fac2cd6e",
   "metadata": {},
   "outputs": [
    {
     "name": "stdout",
     "output_type": "stream",
     "text": [
      "Twinkle, twinkle, little star,\n",
      "    How I wonder what you are!\n",
      "        Up above the world so high,\n",
      "        like a diamond in the sky.\n",
      "Twinkle, twinkle, little star,\n",
      "    How I wonder what you are!\n"
     ]
    }
   ],
   "source": [
    "print('''Twinkle, twinkle, little star,\n",
    "    How I wonder what you are!\n",
    "        Up above the world so high,\n",
    "        like a diamond in the sky.\n",
    "Twinkle, twinkle, little star,\n",
    "    How I wonder what you are!''')"
   ]
  },
  {
   "cell_type": "code",
   "execution_count": 1,
   "id": "721878df",
   "metadata": {},
   "outputs": [
    {
     "name": "stdout",
     "output_type": "stream",
     "text": [
      "3.9.7\n"
     ]
    }
   ],
   "source": [
    "import platform\n",
    "print(platform.python_version())\n",
    "#or open command prompt and type \n",
    "#python --version"
   ]
  },
  {
   "cell_type": "code",
   "execution_count": 8,
   "id": "1553e4a4",
   "metadata": {},
   "outputs": [
    {
     "name": "stdout",
     "output_type": "stream",
     "text": [
      "Current Time = 03:01:59\n",
      "Current Date = 03-01-2022\n"
     ]
    }
   ],
   "source": [
    "##Its a copied answer please revise it in our next class so we can get better understanding of it.\n",
    "from datetime import datetime\n",
    "\n",
    "now = datetime.now()\n",
    "\n",
    "current_time = now.strftime(\"%H:%M:%S\")\n",
    "print(\"Current Time =\", current_time)\n",
    "current_date = now.strftime(\"%d-%m-%Y\")\n",
    "print(\"Current Date =\", current_date)"
   ]
  },
  {
   "cell_type": "code",
   "execution_count": 7,
   "id": "a70e97a8",
   "metadata": {},
   "outputs": [
    {
     "name": "stdout",
     "output_type": "stream",
     "text": [
      "radius:7\n",
      "154.0\n"
     ]
    }
   ],
   "source": [
    "r = input(\"radius:\")\n",
    "r = int(r)\n",
    "pi = 22/7\n",
    "Area = pi*(r**2)\n",
    "print(Area)"
   ]
  },
  {
   "cell_type": "code",
   "execution_count": 1,
   "id": "79761008",
   "metadata": {},
   "outputs": [
    {
     "name": "stdout",
     "output_type": "stream",
     "text": [
      "Enter your first name:Abu\n",
      "Enter your last name: Huraira\n",
      "Huraira Abu\n"
     ]
    }
   ],
   "source": [
    "fn = input(\"Enter your first name: \")\n",
    "ln = input(\"Enter your last name: \")\n",
    "print(ln + \" \" + fn)"
   ]
  },
  {
   "cell_type": "code",
   "execution_count": 2,
   "id": "766912b3",
   "metadata": {},
   "outputs": [
    {
     "name": "stdout",
     "output_type": "stream",
     "text": [
      "First Input: 3\n",
      "Second Input: 4\n",
      "7.0\n"
     ]
    }
   ],
   "source": [
    "input_1 = float(input(\"First Input: \"))\n",
    "input_2 = float(input(\"Second Input: \"))\n",
    "print(input_1+input_2)"
   ]
  },
  {
   "cell_type": "code",
   "execution_count": null,
   "id": "03833bfb",
   "metadata": {},
   "outputs": [],
   "source": []
  }
 ],
 "metadata": {
  "kernelspec": {
   "display_name": "Python 3 (ipykernel)",
   "language": "python",
   "name": "python3"
  },
  "language_info": {
   "codemirror_mode": {
    "name": "ipython",
    "version": 3
   },
   "file_extension": ".py",
   "mimetype": "text/x-python",
   "name": "python",
   "nbconvert_exporter": "python",
   "pygments_lexer": "ipython3",
   "version": "3.9.7"
  }
 },
 "nbformat": 4,
 "nbformat_minor": 5
}
